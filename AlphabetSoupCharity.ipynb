{
 "cells": [
  {
   "cell_type": "markdown",
   "metadata": {
    "id": "ZVwiS0wl4dqx"
   },
   "source": [
    "### Deliverable 1: Preprocessing the Data for a Neural Network"
   ]
  },
  {
   "cell_type": "code",
   "execution_count": 1,
   "metadata": {
    "colab": {
     "base_uri": "https://localhost:8080/",
     "height": 496
    },
    "executionInfo": {
     "elapsed": 4068,
     "status": "ok",
     "timestamp": 1660003579325,
     "user": {
      "displayName": "Jaime Starling",
      "userId": "03085754699063581163"
     },
     "user_tz": 300
    },
    "id": "vRAbl8Ex4dqz",
    "outputId": "2a1e433d-fba2-4c23-de10-e1ceca39a3c5"
   },
   "outputs": [
    {
     "ename": "ModuleNotFoundError",
     "evalue": "No module named 'tensorflow'",
     "output_type": "error",
     "traceback": [
      "\u001b[0;31m---------------------------------------------------------------------------\u001b[0m",
      "\u001b[0;31mModuleNotFoundError\u001b[0m                       Traceback (most recent call last)",
      "Input \u001b[0;32mIn [1]\u001b[0m, in \u001b[0;36m<cell line: 5>\u001b[0;34m()\u001b[0m\n\u001b[1;32m      3\u001b[0m \u001b[38;5;28;01mfrom\u001b[39;00m \u001b[38;5;21;01msklearn\u001b[39;00m\u001b[38;5;21;01m.\u001b[39;00m\u001b[38;5;21;01mpreprocessing\u001b[39;00m \u001b[38;5;28;01mimport\u001b[39;00m StandardScaler,OneHotEncoder\n\u001b[1;32m      4\u001b[0m \u001b[38;5;28;01mimport\u001b[39;00m \u001b[38;5;21;01mpandas\u001b[39;00m \u001b[38;5;28;01mas\u001b[39;00m \u001b[38;5;21;01mpd\u001b[39;00m\n\u001b[0;32m----> 5\u001b[0m \u001b[38;5;28;01mimport\u001b[39;00m \u001b[38;5;21;01mtensorflow\u001b[39;00m \u001b[38;5;28;01mas\u001b[39;00m \u001b[38;5;21;01mtf\u001b[39;00m\n\u001b[1;32m      7\u001b[0m \u001b[38;5;66;03m#  Import and read the charity_data.csv.\u001b[39;00m\n\u001b[1;32m      8\u001b[0m \u001b[38;5;28;01mimport\u001b[39;00m \u001b[38;5;21;01mpandas\u001b[39;00m \u001b[38;5;28;01mas\u001b[39;00m \u001b[38;5;21;01mpd\u001b[39;00m \n",
      "\u001b[0;31mModuleNotFoundError\u001b[0m: No module named 'tensorflow'"
     ]
    }
   ],
   "source": [
    "# 1 Import our dependencies\n",
    "from sklearn.model_selection import train_test_split\n",
    "from sklearn.preprocessing import StandardScaler,OneHotEncoder\n",
    "import pandas as pd\n",
    "import tensorflow as tf\n",
    "\n",
    "#  Import and read the charity_data.csv.\n",
    "import pandas as pd \n",
    "#application_df = pd.read_csv(\"../Resources/charity_data.csv\")\n",
    "\n",
    "url = 'https://raw.githubusercontent.com/JaimeStarling/Neural_Network_Charity_Analysis/main/charity_data.csv'\n",
    "application_df = pd.read_csv(url)\n",
    "\n",
    "application_df.head()"
   ]
  },
  {
   "cell_type": "code",
   "execution_count": null,
   "metadata": {
    "executionInfo": {
     "elapsed": 278,
     "status": "ok",
     "timestamp": 1660003583600,
     "user": {
      "displayName": "Jaime Starling",
      "userId": "03085754699063581163"
     },
     "user_tz": 300
    },
    "id": "4m-qhxrM4dq1"
   },
   "outputs": [],
   "source": [
    "# 2 Drop the non-beneficial ID columns, 'EIN' and 'NAME'.\n",
    "application_df.drop(['EIN', 'NAME'], axis = 1, inplace = True)"
   ]
  },
  {
   "cell_type": "code",
   "execution_count": null,
   "metadata": {
    "colab": {
     "base_uri": "https://localhost:8080/",
     "height": 288
    },
    "executionInfo": {
     "elapsed": 262,
     "status": "ok",
     "timestamp": 1660003586359,
     "user": {
      "displayName": "Jaime Starling",
      "userId": "03085754699063581163"
     },
     "user_tz": 300
    },
    "id": "lDfdj9ni-7Pt",
    "outputId": "a5521228-af44-496b-8513-4e6d66eb676b"
   },
   "outputs": [],
   "source": [
    "application_df.head(5)"
   ]
  },
  {
   "cell_type": "code",
   "execution_count": null,
   "metadata": {
    "colab": {
     "base_uri": "https://localhost:8080/"
    },
    "executionInfo": {
     "elapsed": 288,
     "status": "ok",
     "timestamp": 1660003591315,
     "user": {
      "displayName": "Jaime Starling",
      "userId": "03085754699063581163"
     },
     "user_tz": 300
    },
    "id": "AvPgUmqc4dq1",
    "outputId": "71f4f607-5f25-40d6-9391-763a260ad7ea"
   },
   "outputs": [],
   "source": [
    "# 3 Determine the number of unique values in each column.\n",
    "application_df.nunique()"
   ]
  },
  {
   "cell_type": "code",
   "execution_count": null,
   "metadata": {
    "colab": {
     "base_uri": "https://localhost:8080/"
    },
    "executionInfo": {
     "elapsed": 257,
     "status": "ok",
     "timestamp": 1660003594426,
     "user": {
      "displayName": "Jaime Starling",
      "userId": "03085754699063581163"
     },
     "user_tz": 300
    },
    "id": "xRy10CeN4dq2",
    "outputId": "6689cfb7-cd0b-4d57-878c-6332176e3555"
   },
   "outputs": [],
   "source": [
    "# 4 Look at APPLICATION_TYPE value counts for binning\n",
    "application_type_counts = application_df['APPLICATION_TYPE'].value_counts()\n",
    "application_type_counts\n"
   ]
  },
  {
   "cell_type": "code",
   "execution_count": null,
   "metadata": {
    "colab": {
     "base_uri": "https://localhost:8080/",
     "height": 283
    },
    "executionInfo": {
     "elapsed": 295,
     "status": "ok",
     "timestamp": 1660003598252,
     "user": {
      "displayName": "Jaime Starling",
      "userId": "03085754699063581163"
     },
     "user_tz": 300
    },
    "id": "G0wlAxXR4dq2",
    "outputId": "0b7cd5d2-5f18-4df5-efef-74b15b5a130a"
   },
   "outputs": [],
   "source": [
    "# Visualize the value counts of APPLICATION_TYPE\n",
    "application_type_counts.plot.density()\n"
   ]
  },
  {
   "cell_type": "code",
   "execution_count": null,
   "metadata": {
    "colab": {
     "base_uri": "https://localhost:8080/"
    },
    "executionInfo": {
     "elapsed": 268,
     "status": "ok",
     "timestamp": 1660003600946,
     "user": {
      "displayName": "Jaime Starling",
      "userId": "03085754699063581163"
     },
     "user_tz": 300
    },
    "id": "-xWTlA5r4dq3",
    "outputId": "42738070-0714-40fc-e9ca-d3d8852cdb3f"
   },
   "outputs": [],
   "source": [
    "# 6 Determine which values to replace if counts are less than ...?\n",
    "replace_application = list(application_type_counts[application_type_counts < 500].index)\n",
    "\n",
    "# Replace in dataframe\n",
    "for app in replace_application:\n",
    "    application_df.APPLICATION_TYPE = application_df.APPLICATION_TYPE.replace(app,\"Other\")\n",
    "    \n",
    "# Check to make sure binning was successful\n",
    "application_df.APPLICATION_TYPE.value_counts()"
   ]
  },
  {
   "cell_type": "code",
   "execution_count": null,
   "metadata": {
    "colab": {
     "base_uri": "https://localhost:8080/"
    },
    "executionInfo": {
     "elapsed": 255,
     "status": "ok",
     "timestamp": 1660003605223,
     "user": {
      "displayName": "Jaime Starling",
      "userId": "03085754699063581163"
     },
     "user_tz": 300
    },
    "id": "ktZf1GzL4dq4",
    "outputId": "37c25ccc-01b9-4f05-e263-7fcf21a806ae"
   },
   "outputs": [],
   "source": [
    "# Look at CLASSIFICATION value counts for binning\n",
    "classification_value_counts = application_df['CLASSIFICATION'].value_counts()\n",
    "classification_value_counts\n"
   ]
  },
  {
   "cell_type": "code",
   "execution_count": null,
   "metadata": {
    "colab": {
     "base_uri": "https://localhost:8080/",
     "height": 284
    },
    "executionInfo": {
     "elapsed": 294,
     "status": "ok",
     "timestamp": 1660003607910,
     "user": {
      "displayName": "Jaime Starling",
      "userId": "03085754699063581163"
     },
     "user_tz": 300
    },
    "id": "DLwCpI-94dq5",
    "outputId": "f58a94e3-48d7-486a-9781-3053e32653cf"
   },
   "outputs": [],
   "source": [
    "# Visualize the value counts of CLASSIFICATION\n",
    "classification_value_counts.plot.density()\n"
   ]
  },
  {
   "cell_type": "code",
   "execution_count": null,
   "metadata": {
    "colab": {
     "base_uri": "https://localhost:8080/"
    },
    "executionInfo": {
     "elapsed": 258,
     "status": "ok",
     "timestamp": 1660003610777,
     "user": {
      "displayName": "Jaime Starling",
      "userId": "03085754699063581163"
     },
     "user_tz": 300
    },
    "id": "gfXft5LA4dq6",
    "outputId": "2f1be2cf-3000-451d-ee46-ebec141c4e47"
   },
   "outputs": [],
   "source": [
    "# Determine which values to replace if counts are less than ..?\n",
    "replace_class = list(classification_value_counts[classification_value_counts < 500].index)\n",
    "\n",
    "# Replace in dataframe\n",
    "for cls in replace_class:\n",
    "    application_df.CLASSIFICATION = application_df.CLASSIFICATION.replace(cls,\"Other\")\n",
    "    \n",
    "# Check to make sure binning was successful\n",
    "application_df.CLASSIFICATION.value_counts()"
   ]
  },
  {
   "cell_type": "code",
   "execution_count": null,
   "metadata": {
    "colab": {
     "base_uri": "https://localhost:8080/"
    },
    "executionInfo": {
     "elapsed": 253,
     "status": "ok",
     "timestamp": 1660003613506,
     "user": {
      "displayName": "Jaime Starling",
      "userId": "03085754699063581163"
     },
     "user_tz": 300
    },
    "id": "BbpgmNdx4dq7",
    "outputId": "4a802128-3584-46c8-98ae-190e0e403ca7"
   },
   "outputs": [],
   "source": [
    "# 7 Generate our categorical variable lists\n",
    "application_cat = application_df.dtypes[application_df.dtypes == \"object\"].index.tolist()\n",
    "application_cat\n"
   ]
  },
  {
   "cell_type": "code",
   "execution_count": null,
   "metadata": {
    "colab": {
     "base_uri": "https://localhost:8080/",
     "height": 353
    },
    "executionInfo": {
     "elapsed": 265,
     "status": "ok",
     "timestamp": 1660003615808,
     "user": {
      "displayName": "Jaime Starling",
      "userId": "03085754699063581163"
     },
     "user_tz": 300
    },
    "id": "y3D0v1FP4dq7",
    "outputId": "c6024cec-8e2e-49ef-a5ce-a6fe3fa1a0bb"
   },
   "outputs": [],
   "source": [
    "# 8 Create a OneHotEncoder instance\n",
    "enc = OneHotEncoder(sparse=False)\n",
    "\n",
    "# Fit and transform the OneHotEncoder using the categorical variable list\n",
    "encode_df = pd.DataFrame(enc.fit_transform(application_df[application_cat]))\n",
    "\n",
    "# Add the encoded variable names to the dataframe\n",
    "encode_df.columns = enc.get_feature_names(application_cat)\n",
    "encode_df.head()"
   ]
  },
  {
   "cell_type": "code",
   "execution_count": null,
   "metadata": {
    "colab": {
     "base_uri": "https://localhost:8080/",
     "height": 317
    },
    "executionInfo": {
     "elapsed": 251,
     "status": "ok",
     "timestamp": 1660003618696,
     "user": {
      "displayName": "Jaime Starling",
      "userId": "03085754699063581163"
     },
     "user_tz": 300
    },
    "id": "loBFGYrj4dq8",
    "outputId": "4bda4f0c-4437-46f4-95df-b3b4ca840d95"
   },
   "outputs": [],
   "source": [
    "# 9 Merge one-hot encoded features and drop the originals\n",
    "application_df = application_df.merge(encode_df, left_index=True,right_index=True)\n",
    "application_df = application_df.drop(columns = application_cat)\n",
    "application_df.head()\n"
   ]
  },
  {
   "cell_type": "code",
   "execution_count": null,
   "metadata": {
    "colab": {
     "base_uri": "https://localhost:8080/"
    },
    "executionInfo": {
     "elapsed": 247,
     "status": "ok",
     "timestamp": 1660003622309,
     "user": {
      "displayName": "Jaime Starling",
      "userId": "03085754699063581163"
     },
     "user_tz": 300
    },
    "id": "d57c8_AQ4dq8",
    "outputId": "defbe45b-5871-4142-df9c-f7d653d2bab3"
   },
   "outputs": [],
   "source": [
    "# 10 Split our preprocessed data into our features and target arrays\n",
    "y = application_df['IS_SUCCESSFUL'].values\n",
    "X = application_df.drop(['IS_SUCCESSFUL'],1).values\n",
    "\n",
    "# 11 Split the preprocessed data into a training and testing dataset\n",
    "X_train, X_test, y_train, y_test = train_test_split(X, y, random_state=78)\n"
   ]
  },
  {
   "cell_type": "code",
   "execution_count": null,
   "metadata": {
    "executionInfo": {
     "elapsed": 267,
     "status": "ok",
     "timestamp": 1660003625123,
     "user": {
      "displayName": "Jaime Starling",
      "userId": "03085754699063581163"
     },
     "user_tz": 300
    },
    "id": "kGopsjtj4dq9"
   },
   "outputs": [],
   "source": [
    "# 12 Create a StandardScaler instances\n",
    "scaler = StandardScaler()\n",
    "\n",
    "# Fit the StandardScaler\n",
    "X_scaler = scaler.fit(X_train)\n",
    "\n",
    "# Scale the data\n",
    "X_train_scaled = X_scaler.transform(X_train)\n",
    "X_test_scaled = X_scaler.transform(X_test)"
   ]
  },
  {
   "cell_type": "markdown",
   "metadata": {
    "id": "Z9xXxACT4dq9"
   },
   "source": [
    "### Deliverable 2: Compile, Train and Evaluate the Model"
   ]
  },
  {
   "cell_type": "code",
   "execution_count": null,
   "metadata": {
    "colab": {
     "base_uri": "https://localhost:8080/"
    },
    "executionInfo": {
     "elapsed": 658,
     "status": "ok",
     "timestamp": 1660003629002,
     "user": {
      "displayName": "Jaime Starling",
      "userId": "03085754699063581163"
     },
     "user_tz": 300
    },
    "id": "sC758aNq4dq-",
    "outputId": "ac152f20-a6e3-4777-a73e-86e5928d5c4e"
   },
   "outputs": [],
   "source": [
    "# Define the model - deep neural net, i.e., the number of input features and hidden nodes for each layer.\n",
    "number_input_features = len(X_train[0])\n",
    "hidden_nodes_layer1 = 80\n",
    "hidden_nodes_layer2 = 30\n",
    "\n",
    "nn = tf.keras.models.Sequential()\n",
    "\n",
    "# First hidden layer\n",
    "nn.add(tf.keras.layers.Dense(units=hidden_nodes_layer1, input_dim=number_input_features, activation=\"relu\"))\n",
    "\n",
    "# Second hidden layer\n",
    "nn.add(tf.keras.layers.Dense(units=hidden_nodes_layer2, activation=\"relu\"))\n",
    "\n",
    "# Output layer\n",
    "nn.add(tf.keras.layers.Dense(units=1, activation=\"sigmoid\"))\n",
    "\n",
    "# Check the structure of the model\n",
    "nn.summary()"
   ]
  },
  {
   "cell_type": "code",
   "execution_count": null,
   "metadata": {
    "executionInfo": {
     "elapsed": 260,
     "status": "ok",
     "timestamp": 1660003811475,
     "user": {
      "displayName": "Jaime Starling",
      "userId": "03085754699063581163"
     },
     "user_tz": 300
    },
    "id": "SRFr-4de4dq-"
   },
   "outputs": [],
   "source": [
    "# 7 Compile the model\n",
    "nn.compile(loss=\"binary_crossentropy\", optimizer=\"adam\", metrics=[\"accuracy\"])\n"
   ]
  },
  {
   "cell_type": "code",
   "execution_count": null,
   "metadata": {
    "colab": {
     "base_uri": "https://localhost:8080/"
    },
    "executionInfo": {
     "elapsed": 203078,
     "status": "ok",
     "timestamp": 1660004097784,
     "user": {
      "displayName": "Jaime Starling",
      "userId": "03085754699063581163"
     },
     "user_tz": 300
    },
    "id": "Ix_Z9fcn4dq-",
    "outputId": "0549266e-502c-43f5-804d-076e47512cff"
   },
   "outputs": [],
   "source": [
    "# 7 Train the model\n",
    "fit_model = nn.fit(X_train,y_train,epochs=100)\n"
   ]
  },
  {
   "cell_type": "code",
   "execution_count": null,
   "metadata": {
    "executionInfo": {
     "elapsed": 5,
     "status": "ok",
     "timestamp": 1660004191136,
     "user": {
      "displayName": "Jaime Starling",
      "userId": "03085754699063581163"
     },
     "user_tz": 300
    },
    "id": "k3ZTC9js7mIC"
   },
   "outputs": [],
   "source": [
    "# 8 Create a callback that saves the model's weights every 5 epochs.\n",
    "# Import checkpoint dependencies\n",
    "import os\n",
    "from tensorflow.keras.callbacks import ModelCheckpoint\n",
    "\n"
   ]
  },
  {
   "cell_type": "code",
   "execution_count": null,
   "metadata": {
    "executionInfo": {
     "elapsed": 238,
     "status": "ok",
     "timestamp": 1660004195065,
     "user": {
      "displayName": "Jaime Starling",
      "userId": "03085754699063581163"
     },
     "user_tz": 300
    },
    "id": "YsphlF_x9VGi"
   },
   "outputs": [],
   "source": [
    "# Define the checkpoint path and filenames\n",
    "os.makedirs(\"checkpoints/\",exist_ok=True)\n",
    "checkpoint_path = \"checkpoints/weights.{epoch:02d}.hdf5\"\n"
   ]
  },
  {
   "cell_type": "code",
   "execution_count": null,
   "metadata": {
    "colab": {
     "base_uri": "https://localhost:8080/"
    },
    "executionInfo": {
     "elapsed": 149409,
     "status": "ok",
     "timestamp": 1660004350331,
     "user": {
      "displayName": "Jaime Starling",
      "userId": "03085754699063581163"
     },
     "user_tz": 300
    },
    "id": "VcZccxnQ9XFF",
    "outputId": "4e80096d-65d6-4905-cc86-a8c7d3cc8eb5"
   },
   "outputs": [],
   "source": [
    "# Compile the model\n",
    "nn.compile(loss=\"binary_crossentropy\", optimizer=\"adam\", metrics=[\"accuracy\"])\n",
    "\n",
    "# Create a callback that saves the model's weights every epoch\n",
    "cp_callback = ModelCheckpoint(\n",
    "    filepath=checkpoint_path,\n",
    "    verbose=1,\n",
    "    save_weights_only=True,\n",
    "    save_freq='epoch')\n",
    "\n",
    "# Train the model\n",
    "fit_model = nn.fit(X_train_scaled,y_train,epochs=100,callbacks=[cp_callback])\n"
   ]
  },
  {
   "cell_type": "code",
   "execution_count": null,
   "metadata": {
    "colab": {
     "base_uri": "https://localhost:8080/"
    },
    "executionInfo": {
     "elapsed": 844,
     "status": "ok",
     "timestamp": 1660004562932,
     "user": {
      "displayName": "Jaime Starling",
      "userId": "03085754699063581163"
     },
     "user_tz": 300
    },
    "id": "HMifmmlK4dq-",
    "outputId": "ba2ad17e-cd01-4c52-903b-45180f7a9361"
   },
   "outputs": [],
   "source": [
    "# 9 Evaluate the model using the test data\n",
    "model_loss, model_accuracy = nn.evaluate(X_test_scaled,y_test,verbose=2)\n",
    "print(f\"Loss: {model_loss}, Accuracy: {model_accuracy}\")"
   ]
  },
  {
   "cell_type": "code",
   "execution_count": null,
   "metadata": {
    "executionInfo": {
     "elapsed": 252,
     "status": "ok",
     "timestamp": 1660005206470,
     "user": {
      "displayName": "Jaime Starling",
      "userId": "03085754699063581163"
     },
     "user_tz": 300
    },
    "id": "qxkROoDU4dq_"
   },
   "outputs": [],
   "source": [
    "# Export our model to HDF5 file\n",
    "nn.save(\"AlphabetSoupCharity.h5\")\n"
   ]
  },
  {
   "cell_type": "code",
   "execution_count": null,
   "metadata": {
    "executionInfo": {
     "elapsed": 2,
     "status": "ok",
     "timestamp": 1660005207561,
     "user": {
      "displayName": "Jaime Starling",
      "userId": "03085754699063581163"
     },
     "user_tz": 300
    },
    "id": "vUchzgGi_SCY"
   },
   "outputs": [],
   "source": [
    "# Import the model to a new object\n",
    "nn_imported = tf.keras.models.load_model('AlphabetSoupCharity.h5')\n"
   ]
  },
  {
   "cell_type": "code",
   "execution_count": null,
   "metadata": {
    "colab": {
     "base_uri": "https://localhost:8080/"
    },
    "executionInfo": {
     "elapsed": 559,
     "status": "ok",
     "timestamp": 1660005208955,
     "user": {
      "displayName": "Jaime Starling",
      "userId": "03085754699063581163"
     },
     "user_tz": 300
    },
    "id": "aD_LJNtcA8pn",
    "outputId": "ed40e512-e498-4846-b78d-16fe37dbfc1f"
   },
   "outputs": [],
   "source": [
    "# Evaluate the completed model using the test data\n",
    "model_loss, model_accuracy = nn_imported.evaluate(X_test_scaled,y_test,verbose=2)\n",
    "print(f\"Loss: {model_loss}, Accuracy: {model_accuracy}\")\n"
   ]
  },
  {
   "cell_type": "code",
   "execution_count": null,
   "metadata": {
    "id": "sLXOqiQ5BpqH"
   },
   "outputs": [],
   "source": [
    "from google.colab import drive\n",
    "drive.mount('/content/drive')"
   ]
  }
 ],
 "metadata": {
  "colab": {
   "collapsed_sections": [],
   "name": "AlphabetSoupCharity.ipynb",
   "provenance": []
  },
  "kernelspec": {
   "display_name": "Python 3 (ipykernel)",
   "language": "python",
   "name": "python3"
  },
  "language_info": {
   "codemirror_mode": {
    "name": "ipython",
    "version": 3
   },
   "file_extension": ".py",
   "mimetype": "text/x-python",
   "name": "python",
   "nbconvert_exporter": "python",
   "pygments_lexer": "ipython3",
   "version": "3.9.7"
  }
 },
 "nbformat": 4,
 "nbformat_minor": 1
}
